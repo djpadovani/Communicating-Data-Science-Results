{
 "cells": [
  {
   "cell_type": "markdown",
   "metadata": {},
   "source": [
    "# Larceny has been increasing in San Francisco during Summer 2014\n",
    "\n",
    "Based on data provided by San Francisco Data Portal, larceny has been increasing during Summer 2014. The crimes are perpetrated mostly onthe weekends, from 18:00 to 20:00 and the most dangerous region is Southern district.   "
   ]
  },
  {
   "cell_type": "code",
   "execution_count": 2,
   "metadata": {
    "collapsed": false
   },
   "outputs": [],
   "source": [
    "import pandas as pd\n",
    "import csv as csv"
   ]
  },
  {
   "cell_type": "code",
   "execution_count": null,
   "metadata": {
    "collapsed": false
   },
   "outputs": [],
   "source": [
    "print data"
   ]
  },
  {
   "cell_type": "code",
   "execution_count": 227,
   "metadata": {
    "collapsed": false
   },
   "outputs": [],
   "source": [
    "df = pd.read_csv('SanFrancisco Incidents Summer.csv', sep=';', header=0)"
   ]
  },
  {
   "cell_type": "code",
   "execution_count": 229,
   "metadata": {
    "collapsed": false
   },
   "outputs": [
    {
     "data": {
      "text/html": [
       "<div>\n",
       "<table border=\"1\" class=\"dataframe\">\n",
       "  <thead>\n",
       "    <tr style=\"text-align: right;\">\n",
       "      <th></th>\n",
       "      <th>IncidntNum</th>\n",
       "      <th>Category</th>\n",
       "      <th>Descript</th>\n",
       "      <th>DayOfWeek</th>\n",
       "      <th>Date</th>\n",
       "      <th>Time</th>\n",
       "      <th>PdDistrict</th>\n",
       "      <th>Resolution</th>\n",
       "      <th>Address</th>\n",
       "      <th>X</th>\n",
       "      <th>Y</th>\n",
       "      <th>Location</th>\n",
       "      <th>PdId</th>\n",
       "    </tr>\n",
       "  </thead>\n",
       "  <tbody>\n",
       "    <tr>\n",
       "      <th>0</th>\n",
       "      <td>140734311</td>\n",
       "      <td>ARSON</td>\n",
       "      <td>ARSON OF A VEHICLE</td>\n",
       "      <td>Sunday</td>\n",
       "      <td>08/31/2014</td>\n",
       "      <td>23:50</td>\n",
       "      <td>BAYVIEW</td>\n",
       "      <td>NONE</td>\n",
       "      <td>LOOMIS ST / INDUSTRIAL ST</td>\n",
       "      <td>-122.405.646.994.567</td>\n",
       "      <td>377.383.221.869.053</td>\n",
       "      <td>(37.7383221869053, -122.405646994567)</td>\n",
       "      <td>1,40734E+13</td>\n",
       "    </tr>\n",
       "    <tr>\n",
       "      <th>1</th>\n",
       "      <td>140736317</td>\n",
       "      <td>NON-CRIMINAL</td>\n",
       "      <td>LOST PROPERTY</td>\n",
       "      <td>Sunday</td>\n",
       "      <td>08/31/2014</td>\n",
       "      <td>23:45</td>\n",
       "      <td>MISSION</td>\n",
       "      <td>NONE</td>\n",
       "      <td>400 Block of CASTRO ST</td>\n",
       "      <td>-122.435.012.093.789</td>\n",
       "      <td>377.617.677.182.954</td>\n",
       "      <td>(37.7617677182954, -122.435012093789)</td>\n",
       "      <td>1,40736E+13</td>\n",
       "    </tr>\n",
       "    <tr>\n",
       "      <th>2</th>\n",
       "      <td>146177923</td>\n",
       "      <td>LARCENY/THEFT</td>\n",
       "      <td>GRAND THEFT FROM LOCKED AUTO</td>\n",
       "      <td>Sunday</td>\n",
       "      <td>08/31/2014</td>\n",
       "      <td>23:30</td>\n",
       "      <td>SOUTHERN</td>\n",
       "      <td>NONE</td>\n",
       "      <td>1000 Block of MISSION ST</td>\n",
       "      <td>-122.409.795.194.505</td>\n",
       "      <td>377.800.356.268.394</td>\n",
       "      <td>(37.7800356268394, -122.409795194505)</td>\n",
       "      <td>1,46178E+13</td>\n",
       "    </tr>\n",
       "    <tr>\n",
       "      <th>3</th>\n",
       "      <td>146177531</td>\n",
       "      <td>LARCENY/THEFT</td>\n",
       "      <td>GRAND THEFT FROM LOCKED AUTO</td>\n",
       "      <td>Sunday</td>\n",
       "      <td>08/31/2014</td>\n",
       "      <td>23:30</td>\n",
       "      <td>RICHMOND</td>\n",
       "      <td>NONE</td>\n",
       "      <td>FULTON ST / 26TH AV</td>\n",
       "      <td>-122.485.262.988.324</td>\n",
       "      <td>377.725.176.473.142</td>\n",
       "      <td>(37.7725176473142, -122.485262988324)</td>\n",
       "      <td>1,46178E+13</td>\n",
       "    </tr>\n",
       "    <tr>\n",
       "      <th>4</th>\n",
       "      <td>140734220</td>\n",
       "      <td>NON-CRIMINAL</td>\n",
       "      <td>FOUND PROPERTY</td>\n",
       "      <td>Sunday</td>\n",
       "      <td>08/31/2014</td>\n",
       "      <td>23:23</td>\n",
       "      <td>RICHMOND</td>\n",
       "      <td>NONE</td>\n",
       "      <td>800 Block of LA PLAYA ST</td>\n",
       "      <td>-122.509.895.418.239</td>\n",
       "      <td>377.723.131.976.814</td>\n",
       "      <td>(37.7723131976814, -122.509895418239)</td>\n",
       "      <td>1,40734E+13</td>\n",
       "    </tr>\n",
       "  </tbody>\n",
       "</table>\n",
       "</div>"
      ],
      "text/plain": [
       "   IncidntNum       Category                      Descript DayOfWeek  \\\n",
       "0   140734311          ARSON            ARSON OF A VEHICLE    Sunday   \n",
       "1   140736317   NON-CRIMINAL                 LOST PROPERTY    Sunday   \n",
       "2   146177923  LARCENY/THEFT  GRAND THEFT FROM LOCKED AUTO    Sunday   \n",
       "3   146177531  LARCENY/THEFT  GRAND THEFT FROM LOCKED AUTO    Sunday   \n",
       "4   140734220   NON-CRIMINAL                FOUND PROPERTY    Sunday   \n",
       "\n",
       "         Date   Time PdDistrict Resolution                    Address  \\\n",
       "0  08/31/2014  23:50    BAYVIEW       NONE  LOOMIS ST / INDUSTRIAL ST   \n",
       "1  08/31/2014  23:45    MISSION       NONE     400 Block of CASTRO ST   \n",
       "2  08/31/2014  23:30   SOUTHERN       NONE   1000 Block of MISSION ST   \n",
       "3  08/31/2014  23:30   RICHMOND       NONE        FULTON ST / 26TH AV   \n",
       "4  08/31/2014  23:23   RICHMOND       NONE   800 Block of LA PLAYA ST   \n",
       "\n",
       "                      X                    Y  \\\n",
       "0  -122.405.646.994.567  377.383.221.869.053   \n",
       "1  -122.435.012.093.789  377.617.677.182.954   \n",
       "2  -122.409.795.194.505  377.800.356.268.394   \n",
       "3  -122.485.262.988.324  377.725.176.473.142   \n",
       "4  -122.509.895.418.239  377.723.131.976.814   \n",
       "\n",
       "                                Location         PdId  \n",
       "0  (37.7383221869053, -122.405646994567)  1,40734E+13  \n",
       "1  (37.7617677182954, -122.435012093789)  1,40736E+13  \n",
       "2  (37.7800356268394, -122.409795194505)  1,46178E+13  \n",
       "3  (37.7725176473142, -122.485262988324)  1,46178E+13  \n",
       "4  (37.7723131976814, -122.509895418239)  1,40734E+13  "
      ]
     },
     "execution_count": 229,
     "metadata": {},
     "output_type": "execute_result"
    }
   ],
   "source": [
    "df[:5]"
   ]
  },
  {
   "cell_type": "code",
   "execution_count": 233,
   "metadata": {
    "collapsed": false
   },
   "outputs": [
    {
     "name": "stdout",
     "output_type": "stream",
     "text": [
      "<class 'pandas.core.frame.DataFrame'>\n",
      "Int64Index: 28993 entries, 0 to 28992\n",
      "Data columns (total 13 columns):\n",
      "IncidntNum    28993 non-null int64\n",
      "Category      28993 non-null object\n",
      "Descript      28993 non-null object\n",
      "DayOfWeek     28993 non-null object\n",
      "Date          28993 non-null object\n",
      "Time          28993 non-null object\n",
      "PdDistrict    28993 non-null object\n",
      "Resolution    28993 non-null object\n",
      "Address       28993 non-null object\n",
      "X             28993 non-null object\n",
      "Y             28993 non-null object\n",
      "Location      28993 non-null object\n",
      "PdId          28993 non-null object\n",
      "dtypes: int64(1), object(12)\n",
      "memory usage: 3.1+ MB\n"
     ]
    }
   ],
   "source": [
    "df.info()"
   ]
  },
  {
   "cell_type": "code",
   "execution_count": 235,
   "metadata": {
    "collapsed": false
   },
   "outputs": [],
   "source": [
    "df[\"Date\"] = pd.to_datetime(df[\"Date\"])\n",
    "df[\"Category\"] = df[\"Category\"].astype('category')\n",
    "df[\"Descript\"] = df[\"Descript\"].astype('string')\n",
    "df[\"DayOfWeek\"] = df[\"DayOfWeek\"].astype('string')\n",
    "df[\"PdDistrict\"] = df[\"PdDistrict\"].astype('string')\n",
    "df[\"Resolution\"] = df[\"Resolution\"].astype('string')\n",
    "df[\"Address\"] = df[\"Address\"].astype('string')"
   ]
  },
  {
   "cell_type": "markdown",
   "metadata": {},
   "source": [
    "Larceny is the most commited crime in the city. "
   ]
  },
  {
   "cell_type": "code",
   "execution_count": 277,
   "metadata": {
    "collapsed": false
   },
   "outputs": [
    {
     "data": {
      "text/plain": [
       "LARCENY/THEFT                  9466\n",
       "OTHER OFFENSES                 3567\n",
       "NON-CRIMINAL                   3023\n",
       "ASSAULT                        2882\n",
       "VEHICLE THEFT                  1966\n",
       "WARRANTS                       1782\n",
       "DRUG/NARCOTIC                  1345\n",
       "SUSPICIOUS OCC                 1300\n",
       "MISSING PERSON                 1266\n",
       "SECONDARY CODES                 442\n",
       "WEAPON LAWS                     354\n",
       "ROBBERY                         308\n",
       "TRESPASS                        281\n",
       "FRAUD                           242\n",
       "DRUNKENNESS                     147\n",
       "KIDNAPPING                      117\n",
       "PROSTITUTION                    112\n",
       "DRIVING UNDER THE INFLUENCE     100\n",
       "ARSON                            63\n",
       "RUNAWAY                          61\n",
       "LIQUOR LAWS                      42\n",
       "DISORDERLY CONDUCT               31\n",
       "FORGERY/COUNTERFEITING           18\n",
       "VANDALISM                        17\n",
       "SUICIDE                          14\n",
       "FAMILY OFFENSES                  10\n",
       "EMBEZZLEMENT                     10\n",
       "STOLEN PROPERTY                   8\n",
       "EXTORTION                         7\n",
       "BURGLARY                          6\n",
       "LOITERING                         3\n",
       "GAMBLING                          1\n",
       "PORNOGRAPHY/OBSCENE MAT           1\n",
       "BRIBERY                           1\n",
       "dtype: int64"
      ]
     },
     "execution_count": 277,
     "metadata": {},
     "output_type": "execute_result"
    }
   ],
   "source": [
    "df['Category'].value_counts()"
   ]
  },
  {
   "cell_type": "code",
   "execution_count": 237,
   "metadata": {
    "collapsed": false
   },
   "outputs": [
    {
     "data": {
      "text/plain": [
       "<matplotlib.axes._subplots.AxesSubplot at 0x1bae7320>"
      ]
     },
     "execution_count": 237,
     "metadata": {},
     "output_type": "execute_result"
    },
    {
     "data": {
      "image/png": "[encoded data removed]",
      "text/plain": [
       "<matplotlib.figure.Figure at 0x1bf77ef0>"
      ]
     },
     "metadata": {},
     "output_type": "display_data"
    }
   ],
   "source": [
    "df['Category'].value_counts().plot(kind='bar')"
   ]
  },
  {
   "cell_type": "code",
   "execution_count": 256,
   "metadata": {
    "collapsed": false
   },
   "outputs": [],
   "source": [
    "category_larceny = df[df['Category']=='LARCENY/THEFT']"
   ]
  },
  {
   "cell_type": "code",
   "execution_count": 288,
   "metadata": {
    "collapsed": true
   },
   "outputs": [],
   "source": [
    "category_larceny_perdate = category_larceny['Date'].value_counts()"
   ]
  },
  {
   "cell_type": "markdown",
   "metadata": {},
   "source": [
    "The graphic below shows the number of larceny per day. It is noted that the number of crimes  has been incresing in the last 3 months."
   ]
  },
  {
   "cell_type": "code",
   "execution_count": 289,
   "metadata": {
    "collapsed": false
   },
   "outputs": [
    {
     "data": {
      "text/plain": [
       "<matplotlib.axes._subplots.AxesSubplot at 0x1f7db668>"
      ]
     },
     "execution_count": 289,
     "metadata": {},
     "output_type": "execute_result"
    },
    {
     "data": {
      "image/png": "[encoded data removed]",
      "text/plain": [
       "<matplotlib.figure.Figure at 0x1f8fe6a0>"
      ]
     },
     "metadata": {},
     "output_type": "display_data"
    }
   ],
   "source": [
    "category_larceny_perdate.plot(figsize=(15,5))"
   ]
  },
  {
   "cell_type": "code",
   "execution_count": 290,
   "metadata": {
    "collapsed": true
   },
   "outputs": [],
   "source": [
    "crimes_peryearmonth= category_larceny_perdate.groupby([lambda x: x.year, lambda x: x.month])"
   ]
  },
  {
   "cell_type": "markdown",
   "metadata": {},
   "source": [
    "The statistics below just confirm the tendency. The mean of larcenies has raised from 90.07 in June to 117.72 in August and the max number of crimes per month raised from 149 in June to 163 in August."
   ]
  },
  {
   "cell_type": "code",
   "execution_count": 291,
   "metadata": {
    "collapsed": false
   },
   "outputs": [
    {
     "data": {
      "text/plain": [
       "2014  6  count     30.000000\n",
       "         mean      90.066667\n",
       "         std       18.203701\n",
       "         min       69.000000\n",
       "         25%       76.000000\n",
       "         50%       87.500000\n",
       "         75%       95.000000\n",
       "         max      149.000000\n",
       "      7  count     31.000000\n",
       "         mean     101.774194\n",
       "         std       15.154119\n",
       "         min       75.000000\n",
       "         25%       92.500000\n",
       "         50%       99.000000\n",
       "         75%      112.000000\n",
       "         max      128.000000\n",
       "      8  count     31.000000\n",
       "         mean     116.419355\n",
       "         std       20.477263\n",
       "         min       84.000000\n",
       "         25%      104.500000\n",
       "         50%      109.000000\n",
       "         75%      125.500000\n",
       "         max      163.000000\n",
       "dtype: float64"
      ]
     },
     "execution_count": 291,
     "metadata": {},
     "output_type": "execute_result"
    }
   ],
   "source": [
    "crimes_peryearmonth.describe()"
   ]
  },
  {
   "cell_type": "code",
   "execution_count": 292,
   "metadata": {
    "collapsed": false
   },
   "outputs": [],
   "source": [
    "category_larceny_pertime = category_larceny['Time'].value_counts()"
   ]
  },
  {
   "cell_type": "markdown",
   "metadata": {},
   "source": [
    "The crimes are commited mostly from 18:00 to 20:00."
   ]
  },
  {
   "cell_type": "code",
   "execution_count": 293,
   "metadata": {
    "collapsed": false
   },
   "outputs": [
    {
     "data": {
      "text/plain": [
       "<matplotlib.axes._subplots.AxesSubplot at 0x1f64f240>"
      ]
     },
     "execution_count": 293,
     "metadata": {},
     "output_type": "execute_result"
    },
    {
     "data": {
      "image/png": "[encoded data removed]",
      "text/plain": [
       "<matplotlib.figure.Figure at 0x1fa1c978>"
      ]
     },
     "metadata": {},
     "output_type": "display_data"
    }
   ],
   "source": [
    "category_larceny_pertime[:10].plot(kind='bar')"
   ]
  },
  {
   "cell_type": "code",
   "execution_count": 294,
   "metadata": {
    "collapsed": true
   },
   "outputs": [],
   "source": [
    "category_larceny_perdayOfweek = category_larceny['DayOfWeek'].value_counts()"
   ]
  },
  {
   "cell_type": "markdown",
   "metadata": {},
   "source": [
    "Crimes are more frequent on weekends."
   ]
  },
  {
   "cell_type": "code",
   "execution_count": 295,
   "metadata": {
    "collapsed": false
   },
   "outputs": [
    {
     "data": {
      "text/plain": [
       "<matplotlib.axes._subplots.AxesSubplot at 0x1fc01e10>"
      ]
     },
     "execution_count": 295,
     "metadata": {},
     "output_type": "execute_result"
    },
    {
     "data": {
      "image/png": "[encoded data removed]",
      "text/plain": [
       "<matplotlib.figure.Figure at 0x1fce3c88>"
      ]
     },
     "metadata": {},
     "output_type": "display_data"
    }
   ],
   "source": [
    "category_larceny_perdayOfweek.plot(kind = 'bar')"
   ]
  },
  {
   "cell_type": "code",
   "execution_count": 296,
   "metadata": {
    "collapsed": true
   },
   "outputs": [],
   "source": [
    "category_larceny_perpdDistrict = category_larceny['PdDistrict'].value_counts()"
   ]
  },
  {
   "cell_type": "markdown",
   "metadata": {},
   "source": [
    "The most dangerous regionis the Southern district. "
   ]
  },
  {
   "cell_type": "code",
   "execution_count": 297,
   "metadata": {
    "collapsed": false
   },
   "outputs": [
    {
     "data": {
      "text/plain": [
       "<matplotlib.axes._subplots.AxesSubplot at 0x1f912898>"
      ]
     },
     "execution_count": 297,
     "metadata": {},
     "output_type": "execute_result"
    },
    {
     "data": {
      "image/png": "[encoded data removed]",
      "text/plain": [
       "<matplotlib.figure.Figure at 0x1ff3c048>"
      ]
     },
     "metadata": {},
     "output_type": "display_data"
    }
   ],
   "source": [
    "category_larceny_perpdDistrict.plot(kind = 'bar')"
   ]
  },
  {
   "cell_type": "code",
   "execution_count": null,
   "metadata": {
    "collapsed": true
   },
   "outputs": [],
   "source": []
  }
 ],
 "metadata": {
  "kernelspec": {
   "display_name": "Python 2",
   "language": "python",
   "name": "python2"
  },
  "language_info": {
   "codemirror_mode": {
    "name": "ipython",
    "version": 2
   },
   "file_extension": ".py",
   "mimetype": "text/x-python",
   "name": "python",
   "nbconvert_exporter": "python",
   "pygments_lexer": "ipython2",
   "version": "2.7.11"
  }
 },
 "nbformat": 4,
 "nbformat_minor": 0
}
